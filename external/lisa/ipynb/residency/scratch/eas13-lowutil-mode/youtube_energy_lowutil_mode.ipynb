{
 "cells": [
  {
   "cell_type": "markdown",
   "metadata": {
    "run_control": {
     "frozen": false,
     "read_only": false
    }
   },
   "source": [
    "# YouTube energy comparison with and without low-util mode\n",
    "\n",
    "Test: Run YouTube red video (in offline mode) for 120 seconds, and collect energy around 10 times for each configuration\n",
    "\n",
    "Conclusion: YouTube saves around 1.5-2% energy due to low-utilization mode.\n",
    "\n",
    "(side note: following is the energy consumed when offlining big cpus, the savings is ~4%)\n",
    "    \"output\": 20.935927396987264\n",
    "    \"output\": 20.886319054545837\n",
    "    \"output\": 20.873948319403212\n",
    "    \"output\": 20.80955464619092\n",
    "    \"output\": 20.816727961893836\n",
    "    \"output\": 20.803202597131868"
   ]
  },
  {
   "cell_type": "code",
   "execution_count": 2,
   "metadata": {
    "collapsed": false,
    "run_control": {
     "frozen": false,
     "marked": false,
     "read_only": false
    }
   },
   "outputs": [
    {
     "name": "stdout",
     "output_type": "stream",
     "text": [
      "Populating the interactive namespace from numpy and matplotlib\n"
     ]
    },
    {
     "data": {
      "text/plain": [
       "[21.33999307201658,\n",
       " 21.365129290570263,\n",
       " 21.34209450334471,\n",
       " 21.289426409399248,\n",
       " 21.263789089763883,\n",
       " 21.329407238590395]"
      ]
     },
     "execution_count": 2,
     "metadata": {},
     "output_type": "execute_result"
    }
   ],
   "source": [
    "%pylab inline\n",
    "\n",
    "import pandas as pd\n",
    "import sqlite3\n",
    "import matplotlib.cm as cm\n",
    "import os, json\n",
    "from collections import namedtuple\n",
    "\n",
    "# Provide the root path where your test folders are stored\n",
    "results_dir = '/home/joelaf/repo/lisa-aosp/external/lisa/results/'\n",
    "\n",
    "# Provide the names of the results folders you want compared\n",
    "all_test_dirs = [\n",
    "                 (\"YouTubeRed_4.4.56-g0583b6191868\", 'top-of-tree'),\n",
    "                 (\"YouTubeRed_4.4.56-g931b784e1a3f-30070-ga668ea9c5165\", 'tot+lowutil+25pc'),\n",
    "                 (\"YouTubeRed_4.4.56-g931b784e1a3f-30071-g099f7067358a\", 'tot+lowutilmode+50pc')\n",
    "                ]\n",
    "\n",
    "results_dirs = [x[0] for x in os.walk(results_dir)]\n",
    "\n",
    "def get_edir(test):\n",
    "    edir = test + '_energy'\n",
    "    return [x for x in results_dirs if edir in x]\n",
    "\n",
    "def get_samples(test):\n",
    "    samples = []\n",
    "    edirs = get_edir(test)\n",
    "    for edir in edirs:\n",
    "        with open(edir + '/energy.json') as f:\n",
    "            output = json.load(f)['output']\n",
    "        samples.append(output)\n",
    "    return samples\n",
    "\n",
    "get_samples(all_test_dirs[2][0])\n",
    "    "
   ]
  },
  {
   "cell_type": "markdown",
   "metadata": {
    "collapsed": true,
    "run_control": {
     "frozen": false,
     "read_only": false
    }
   },
   "source": [
    "# Plot histograms of energy consumed for tests"
   ]
  },
  {
   "cell_type": "code",
   "execution_count": 6,
   "metadata": {
    "collapsed": false,
    "run_control": {
     "frozen": false,
     "read_only": false
    },
    "scrolled": false
   },
   "outputs": [
    {
     "name": "stdout",
     "output_type": "stream",
     "text": [
      "('YouTubeRed_4.4.56-g0583b6191868', 'top-of-tree')\n",
      "21.5895253595\n",
      "21.6164255475\n",
      "21.5485038682\n",
      "22.0296997264\n",
      "21.6493742035\n",
      "21.5483970834\n",
      "21.5943349871\n",
      "21.6647268717\n",
      "('YouTubeRed_4.4.56-g931b784e1a3f-30070-ga668ea9c5165', 'tot+lowutil+25pc')\n",
      "21.3110673127\n",
      "21.4832853056\n",
      "21.4711717277\n",
      "21.48856738\n",
      "21.3084231193\n",
      "21.3057657682\n",
      "21.2137620153\n",
      "21.198791322\n",
      "21.3047078781\n",
      "21.312377348\n",
      "21.2130661441\n",
      "('YouTubeRed_4.4.56-g931b784e1a3f-30071-g099f7067358a', 'tot+lowutilmode+50pc')\n",
      "21.339993072\n",
      "21.3651292906\n",
      "21.3420945033\n",
      "21.2894264094\n",
      "21.2637890898\n",
      "21.3294072386\n"
     ]
    },
    {
     "data": {
      "image/png": "[encoded data removed]",
      "text/plain": [
       "<matplotlib.figure.Figure at 0x7fc14487bb50>"
      ]
     },
     "metadata": {},
     "output_type": "display_data"
    }
   ],
   "source": [
    "# Plot a box plot\n",
    "fig, axes = plt.subplots()\n",
    "df_all = []\n",
    "for test in all_test_dirs:\n",
    "    samples = get_samples(test[0])\n",
    "    df = pd.DataFrame(samples, columns=[test[1]])\n",
    "    # print df.describe()\n",
    "    print test\n",
    "    for s in samples:\n",
    "        print s\n",
    "    df_all.append(df)\n",
    "\n",
    "df_box = pd.concat(df_all, axis=1)\n",
    "axes = df_box.plot.box(figsize=(10, 6), ax=axes, ylim=(21,21.8), title=\"Box plot comparing energy samples\")\n",
    "\n",
    "# Plot a histogram of energy values collected\n",
    "# def plot_energy(test):\n",
    "#    test_dir = results_dir + \"/\" + test\n",
    "#    with open(test_dir + \"/energy_all_runs.json\") as f:\n",
    "#        samples = json.load(f)['energy_samples']\n",
    "#    df = pd.DataFrame(samples, columns=['energy'])\n",
    "#    fig, axes = plt.subplots()\n",
    "#    # print axes\n",
    "#    df.plot(kind='hist', bins=32, xlim=(6,10), title=test, figsize=(16,5), ax=axes)\n",
    "\n",
    "# for t in all_test_dirs:\n",
    "#    plot_energy(t)\n"
   ]
  },
  {
   "cell_type": "code",
   "execution_count": null,
   "metadata": {
    "collapsed": true
   },
   "outputs": [],
   "source": []
  }
 ],
 "metadata": {
  "hide_input": false,
  "kernelspec": {
   "display_name": "Python 2",
   "language": "python",
   "name": "python2"
  },
  "language_info": {
   "codemirror_mode": {
    "name": "ipython",
    "version": 2
   },
   "file_extension": ".py",
   "mimetype": "text/x-python",
   "name": "python",
   "nbconvert_exporter": "python",
   "pygments_lexer": "ipython2",
   "version": "2.7.13"
  },
  "toc": {
   "colors": {
    "hover_highlight": "#DAA520",
    "running_highlight": "#FF0000",
    "selected_highlight": "#FFD700"
   },
   "moveMenuLeft": true,
   "nav_menu": {
    "height": "189px",
    "width": "252px"
   },
   "navigate_menu": true,
   "number_sections": true,
   "sideBar": true,
   "threshold": 4,
   "toc_cell": false,
   "toc_number_sections": true,
   "toc_section_display": "block",
   "toc_threshold": 6,
   "toc_window_display": false
  }
 },
 "nbformat": 4,
 "nbformat_minor": 1
}
